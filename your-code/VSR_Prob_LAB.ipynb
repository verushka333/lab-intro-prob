{
 "cells": [
  {
   "cell_type": "markdown",
   "metadata": {},
   "source": [
    "# Introduction To Probability\n",
    "## Challenge 1\n",
    "\n",
    "A and B are events of a probability space with $(\\omega, \\sigma, P)$ such that $P(A) = 0.3$, $P(B) = 0.6$ and $P(A \\cap B) = 0.1$\n",
    "\n",
    "Which of the following statements are false?\n",
    "* $P(A \\cup B) = 0.6$\n",
    "* $P(A \\cap B^{C}) = 0.2$\n",
    "* $P(A \\cap (B \\cup B^{C})) = 0.4$\n",
    "* $P(A^{C} \\cap B^{C}) = 0.3$\n",
    "* $P((A \\cap B)^{C}) = 0.9$"
   ]
  },
  {
   "cell_type": "code",
   "execution_count": 1,
   "metadata": {},
   "outputs": [],
   "source": [
    "import numpy as np\n",
    "import scipy as sp\n",
    "import pandas as pd\n",
    "import seaborn as sns\n",
    "import matplotlib.pyplot as plt\n",
    "from collections import Counter\n",
    "import warnings\n",
    "warnings.simplefilter(action='ignore', category=FutureWarning)\n",
    "\n",
    "sns.set_theme(context=\"notebook\", style=\"darkgrid\", palette=sns.color_palette(\"Set2\"))\n",
    "bc = sns.color_palette(\"Set2\")[0]"
   ]
  },
  {
   "cell_type": "code",
   "execution_count": 2,
   "metadata": {},
   "outputs": [
    {
     "data": {
      "text/plain": [
       "{1, 2, 4, 6}"
      ]
     },
     "execution_count": 2,
     "metadata": {},
     "output_type": "execute_result"
    }
   ],
   "source": [
    "A = {2,4,6}\n",
    "B = {1,2}\n",
    "sample_space={1,2,3,4,5,6}\n",
    "A.union(B)"
   ]
  },
  {
   "cell_type": "code",
   "execution_count": 3,
   "metadata": {},
   "outputs": [
    {
     "data": {
      "text/plain": [
       "{2}"
      ]
     },
     "execution_count": 3,
     "metadata": {},
     "output_type": "execute_result"
    }
   ],
   "source": [
    "A.intersection(B)"
   ]
  },
  {
   "cell_type": "code",
   "execution_count": 4,
   "metadata": {},
   "outputs": [
    {
     "ename": "SyntaxError",
     "evalue": "invalid character '∪' (U+222A) (1067231886.py, line 1)",
     "output_type": "error",
     "traceback": [
      "\u001b[1;36m  Cell \u001b[1;32mIn[4], line 1\u001b[1;36m\u001b[0m\n\u001b[1;33m    𝑃(𝐴∪𝐵)=0.6\u001b[0m\n\u001b[1;37m       ^\u001b[0m\n\u001b[1;31mSyntaxError\u001b[0m\u001b[1;31m:\u001b[0m invalid character '∪' (U+222A)\n"
     ]
    }
   ],
   "source": [
    "𝑃(𝐴∪𝐵)=0.6\n",
    "𝑃(𝐴∪𝐵)=𝑃(𝐴)+𝑃(𝐵)-𝑃(𝐴∩𝐵)\n",
    "𝑃(𝐴∪𝐵)=(0.3+0.6)-0.1\n",
    "𝑃(𝐴∪𝐵)=0.8\n",
    "𝑃(𝐴∪𝐵) is not equal to 0.6\n",
    "\n",
    "𝑃(𝐴∩𝐵𝐶)=0.2\n",
    "𝑃(𝐴∩𝐵𝐶)=𝑃(𝐴)-𝑃(𝐴∩𝐵)\n",
    "𝑃(𝐴∩𝐵𝐶)= 0.3-0.1\n",
    "𝑃(𝐴∩𝐵𝐶) is equal to 0.2\n",
    "\n",
    "𝑃(𝐴∩(𝐵∪𝐵𝐶))=0.4\n",
    "𝑃(𝐴∩(𝐵∪𝐵𝐶))=𝑃(𝐴)\n",
    "𝑃(𝐴∩(𝐵∪𝐵𝐶))=0.3\n",
    "𝑃(𝐴∩(𝐵∪𝐵𝐶)) is not equal to 0.4\n",
    "\n",
    "𝑃(𝐴𝐶∩𝐵𝐶)=0.3\n",
    "𝑃(𝐴𝐶∩𝐵𝐶)=1 - 𝑃(𝐴∪𝐵)\n",
    "𝑃(𝐴𝐶∩𝐵𝐶)= 1 - 𝑃(𝐴)+𝑃(𝐵)-𝑃(𝐴∩𝐵)\n",
    "𝑃(𝐴𝐶∩𝐵𝐶)= 1-0.8\n",
    "𝑃(𝐴𝐶∩𝐵𝐶)= 0.2\n",
    "𝑃(𝐴𝐶∩𝐵𝐶) is not equal to 0.3 \n",
    "\n",
    "𝑃((𝐴∩𝐵)𝐶)=0.9\n",
    "𝑃((𝐴∩𝐵)𝐶)= 1 - 𝑃(𝐴∩𝐵)\n",
    "𝑃((𝐴∩𝐵)𝐶)= 1 - 0.1\n",
    "𝑃((𝐴∩𝐵)𝐶)= 0.9\n",
    "𝑃((𝐴∩𝐵)𝐶) is equal to 0.9"
   ]
  },
  {
   "cell_type": "markdown",
   "metadata": {},
   "source": [
    "## Challenge 2\n",
    "There is a box with 10 white balls, 12 red balls and 8 black balls. Calculate the probability of:\n",
    "* Taking a white ball out.\n",
    "* Taking a white ball out after taking a black ball out.\n",
    "* Taking a red ball out after taking a black and a red ball out.\n",
    "* Taking a red ball out after taking a black and a red ball out with reposition.\n",
    "\n",
    "**Hint**: Reposition means putting back the ball into the box after taking it out."
   ]
  },
  {
   "cell_type": "code",
   "execution_count": 5,
   "metadata": {},
   "outputs": [
    {
     "name": "stdout",
     "output_type": "stream",
     "text": [
      "0.3333333333333333\n",
      "0.3448275862068966\n",
      "0.39285714285714285\n",
      "0.4\n"
     ]
    }
   ],
   "source": [
    "sample_space_size = 10+12+8\n",
    "white = 10\n",
    "red = 12\n",
    "black = 8\n",
    "\n",
    "# Taking a white ball out.\n",
    "print(white/sample_space_size)\n",
    "\n",
    "#Taking a white ball out after taking a black ball out.\n",
    "print(white/(sample_space_size-1))\n",
    "    \n",
    "# Taking a red ball out after taking a black and a red ball out.\n",
    "print((red-1)/(sample_space_size-2))\n",
    "\n",
    "#Taking a red ball out after taking a black and a red ball out with reposition.\n",
    "print(red/sample_space_size)"
   ]
  },
  {
   "cell_type": "code",
   "execution_count": null,
   "metadata": {},
   "outputs": [],
   "source": []
  },
  {
   "cell_type": "markdown",
   "metadata": {},
   "source": [
    "## Challenge 3\n",
    "\n",
    "You are planning to go on a picnic today but the morning is cloudy. You hate rain so you don't know whether to go out or stay home! To help you make a decision, you gather the following data about rainy days:\n",
    "\n",
    "* Knowing that it is a rainy day, the probability of cloudy is 50%!\n",
    "* The probability of any day (rainy or not) starting off cloudy is 40%. \n",
    "* This month is usually dry so only 3 of 30 days (10%) tend to be rainy. \n",
    "\n",
    "What is the probability of rain, given the day started cloudy?"
   ]
  },
  {
   "cell_type": "code",
   "execution_count": 6,
   "metadata": {},
   "outputs": [
    {
     "data": {
      "text/plain": [
       "0.125"
      ]
     },
     "execution_count": 6,
     "metadata": {},
     "output_type": "execute_result"
    }
   ],
   "source": [
    "prob_rain = 0.1#P(A)\n",
    "prob_cloudy = 0.4#P(B)\n",
    "prob_cloud_given_rain = 0.5 #P(B|A)\n",
    "(prob_cloud_given_rain*prob_rain )/prob_cloudy"
   ]
  },
  {
   "cell_type": "markdown",
   "metadata": {},
   "source": [
    "## Challenge 4\n",
    "\n",
    "One thousand people were asked through a telephone survey whether they thought more street lighting is needed at night or not.\n",
    "\n",
    "Out of the 480 men that answered the survey, 324 said yes and 156 said no. On the other hand, out of the 520 women that answered, 351 said yes and 169 said no. \n",
    "\n",
    "We wonder if men and women have a different opinions about the street lighting matter. Is gender relevant or irrelevant to the question?\n",
    "\n",
    "Consider the following events:\n",
    "- The answer is yes, so the person that answered thinks that more street lighting is needed.\n",
    "- The person who answered is a man.\n",
    "\n",
    "We want to know if these events are independent, that is, if the fact of wanting more light depends on whether one is male or female. Are these events independent or not?\n",
    "\n",
    "**Hint**: To clearly compare the answers by gender, it is best to place the data in a table."
   ]
  },
  {
   "cell_type": "code",
   "execution_count": 7,
   "metadata": {},
   "outputs": [
    {
     "data": {
      "text/html": [
       "<div>\n",
       "<style scoped>\n",
       "    .dataframe tbody tr th:only-of-type {\n",
       "        vertical-align: middle;\n",
       "    }\n",
       "\n",
       "    .dataframe tbody tr th {\n",
       "        vertical-align: top;\n",
       "    }\n",
       "\n",
       "    .dataframe thead th {\n",
       "        text-align: right;\n",
       "    }\n",
       "</style>\n",
       "<table border=\"1\" class=\"dataframe\">\n",
       "  <thead>\n",
       "    <tr style=\"text-align: right;\">\n",
       "      <th></th>\n",
       "      <th>Yes</th>\n",
       "      <th>No</th>\n",
       "    </tr>\n",
       "  </thead>\n",
       "  <tbody>\n",
       "    <tr>\n",
       "      <th>Men</th>\n",
       "      <td>324</td>\n",
       "      <td>156</td>\n",
       "    </tr>\n",
       "    <tr>\n",
       "      <th>Women</th>\n",
       "      <td>351</td>\n",
       "      <td>169</td>\n",
       "    </tr>\n",
       "  </tbody>\n",
       "</table>\n",
       "</div>"
      ],
      "text/plain": [
       "       Yes   No\n",
       "Men    324  156\n",
       "Women  351  169"
      ]
     },
     "execution_count": 7,
     "metadata": {},
     "output_type": "execute_result"
    }
   ],
   "source": [
    "import pandas as pd\n",
    "frequency_table = pd.DataFrame({'Yes':[324,351],'No':[156,169]},index=['Men','Women'])\n",
    "frequency_table"
   ]
  },
  {
   "cell_type": "code",
   "execution_count": 8,
   "metadata": {},
   "outputs": [
    {
     "name": "stdout",
     "output_type": "stream",
     "text": [
      "1.0\n"
     ]
    }
   ],
   "source": [
    "from scipy.stats import chi2_contingency\n",
    "stat, p, dof, expected = chi2_contingency(frequency_table)\n",
    "print( p)\n",
    "# there is no relationship between the variables!"
   ]
  },
  {
   "cell_type": "code",
   "execution_count": 10,
   "metadata": {},
   "outputs": [
    {
     "data": {
      "text/html": [
       "<div>\n",
       "<style scoped>\n",
       "    .dataframe tbody tr th:only-of-type {\n",
       "        vertical-align: middle;\n",
       "    }\n",
       "\n",
       "    .dataframe tbody tr th {\n",
       "        vertical-align: top;\n",
       "    }\n",
       "\n",
       "    .dataframe thead th {\n",
       "        text-align: right;\n",
       "    }\n",
       "</style>\n",
       "<table border=\"1\" class=\"dataframe\">\n",
       "  <thead>\n",
       "    <tr style=\"text-align: right;\">\n",
       "      <th></th>\n",
       "      <th>Men</th>\n",
       "      <th>Women</th>\n",
       "    </tr>\n",
       "  </thead>\n",
       "  <tbody>\n",
       "    <tr>\n",
       "      <th>Yes</th>\n",
       "      <td>324</td>\n",
       "      <td>351</td>\n",
       "    </tr>\n",
       "    <tr>\n",
       "      <th>No</th>\n",
       "      <td>156</td>\n",
       "      <td>169</td>\n",
       "    </tr>\n",
       "  </tbody>\n",
       "</table>\n",
       "</div>"
      ],
      "text/plain": [
       "     Men  Women\n",
       "Yes  324    351\n",
       "No   156    169"
      ]
     },
     "execution_count": 10,
     "metadata": {},
     "output_type": "execute_result"
    }
   ],
   "source": [
    "frequency_table.T"
   ]
  },
  {
   "cell_type": "code",
   "execution_count": 11,
   "metadata": {},
   "outputs": [
    {
     "data": {
      "text/plain": [
       "0.324"
      ]
     },
     "execution_count": 11,
     "metadata": {},
     "output_type": "execute_result"
    }
   ],
   "source": [
    "prob_a=frequency_table['Yes'].sum()/frequency_table.sum().sum()\n",
    "prob_b=frequency_table.T['Men'].sum()/frequency_table.sum().sum()\n",
    "prob_a*prob_b"
   ]
  },
  {
   "cell_type": "code",
   "execution_count": 12,
   "metadata": {},
   "outputs": [
    {
     "data": {
      "text/plain": [
       "0.324"
      ]
     },
     "execution_count": 12,
     "metadata": {},
     "output_type": "execute_result"
    }
   ],
   "source": [
    "prob_a_intersection_b=frequency_table.loc['Men','Yes']/frequency_table.sum().sum()\n",
    "prob_a_intersection_b"
   ]
  },
  {
   "cell_type": "code",
   "execution_count": 13,
   "metadata": {},
   "outputs": [
    {
     "name": "stdout",
     "output_type": "stream",
     "text": [
      "The events are independent\n"
     ]
    }
   ],
   "source": [
    "if prob_a_intersection_b == prob_a*prob_b:\n",
    "    print('The events are independent')\n",
    "else:\n",
    "    print('The events are dependent')"
   ]
  },
  {
   "cell_type": "code",
   "execution_count": null,
   "metadata": {},
   "outputs": [],
   "source": []
  }
 ],
 "metadata": {
  "kernelspec": {
   "display_name": "Python 3 (ipykernel)",
   "language": "python",
   "name": "python3"
  },
  "language_info": {
   "codemirror_mode": {
    "name": "ipython",
    "version": 3
   },
   "file_extension": ".py",
   "mimetype": "text/x-python",
   "name": "python",
   "nbconvert_exporter": "python",
   "pygments_lexer": "ipython3",
   "version": "3.11.5"
  }
 },
 "nbformat": 4,
 "nbformat_minor": 2
}
